{
 "cells": [
  {
   "cell_type": "code",
   "execution_count": 1,
   "metadata": {},
   "outputs": [],
   "source": [
    "# LOADING THE SAVED NUMPY ARRAYS OF DATA AND TARGET\n",
    "\n",
    "import numpy as np\n",
    "data=np.load('MaskData.npy')\n",
    "target=np.load('MaskTarget.npy')"
   ]
  },
  {
   "cell_type": "code",
   "execution_count": 2,
   "metadata": {},
   "outputs": [],
   "source": [
    "# IMPORTING LAYERS, MODEL, AND CALLBACK FOR MODEL TRAINING \n",
    "\n",
    "from keras.models import Sequential\n",
    "from keras.layers import Dense,Flatten,Dropout,BatchNormalization,Activation\n",
    "from keras.layers import Conv2D,MaxPooling2D\n",
    "from keras.callbacks import ModelCheckpoint"
   ]
  },
  {
   "cell_type": "code",
   "execution_count": 3,
   "metadata": {},
   "outputs": [],
   "source": [
    "# INITIALIZING THE MODEL\n",
    "\n",
    "model=Sequential()"
   ]
  },
  {
   "cell_type": "code",
   "execution_count": 4,
   "metadata": {},
   "outputs": [],
   "source": [
    "# ADDING LAYERS\n",
    "\n",
    "model.add(Conv2D(32,(3,3),input_shape=data.shape[1:]))\n",
    "model.add(Activation('relu'))\n",
    "model.add(BatchNormalization())\n",
    "model.add(MaxPooling2D(pool_size=(2,2)))\n",
    "#The first CNN layer followed by Relu and MaxPooling layers\n",
    "\n",
    "model.add(Conv2D(32,(3,3)))\n",
    "model.add(Activation('relu'))\n",
    "model.add(BatchNormalization())\n",
    "model.add(MaxPooling2D(pool_size=(2,2)))\n",
    "#The second convolution layer followed by Relu and MaxPooling layers"
   ]
  },
  {
   "cell_type": "code",
   "execution_count": 5,
   "metadata": {},
   "outputs": [],
   "source": [
    "# FLATTENING THE LAYER AND ADDING THE OUTPUT \n",
    "\n",
    "model.add(Flatten())\n",
    "model.add(Dropout(0.5))\n",
    "#Flatten layer to stack the output convolutions from second convolution layer\n",
    "model.add(Dense(128,activation='relu'))\n",
    "#Dense layer of 64 neurons\n",
    "model.add(BatchNormalization())\n",
    "model.add(Dense(3,activation='softmax'))\n",
    "#The Final layer with two outputs for two categories\n"
   ]
  },
  {
   "cell_type": "code",
   "execution_count": 6,
   "metadata": {},
   "outputs": [],
   "source": [
    "# COMPILING THE MODEL\n",
    "\n",
    "model.compile(loss='categorical_crossentropy',optimizer='adam',metrics=['accuracy'])"
   ]
  },
  {
   "cell_type": "code",
   "execution_count": 7,
   "metadata": {},
   "outputs": [],
   "source": [
    "# DIVIDING DATASET INTO TRAINING AND TESTING\n",
    "\n",
    "from sklearn.model_selection import train_test_split\n",
    "train_data,test_data,train_target,test_target=train_test_split(data,target,test_size=0.1)"
   ]
  },
  {
   "cell_type": "code",
   "execution_count": 9,
   "metadata": {},
   "outputs": [],
   "source": [
    "# ADDING A CALLBACK\n",
    "\n",
    "checkpoint = ModelCheckpoint('model-{epoch:03d}.model',monitor='val_loss',verbose=0,save_best_only=True,mode='auto')"
   ]
  },
  {
   "cell_type": "code",
   "execution_count": 10,
   "metadata": {},
   "outputs": [
    {
     "name": "stdout",
     "output_type": "stream",
     "text": [
      "Epoch 1/20\n",
      "202/203 [============================>.] - ETA: 0s - loss: 0.3257 - accuracy: 0.8906INFO:tensorflow:Assets written to: model-001.model\\assets\n",
      "203/203 [==============================] - 91s 443ms/step - loss: 0.3260 - accuracy: 0.8905 - val_loss: 2.1037 - val_accuracy: 0.3148\n",
      "Epoch 2/20\n",
      "202/203 [============================>.] - ETA: 0s - loss: 0.1476 - accuracy: 0.9506INFO:tensorflow:Assets written to: model-002.model\\assets\n",
      "203/203 [==============================] - 91s 448ms/step - loss: 0.1476 - accuracy: 0.9507 - val_loss: 1.1864 - val_accuracy: 0.6543\n",
      "Epoch 3/20\n",
      "202/203 [============================>.] - ETA: 0s - loss: 0.0909 - accuracy: 0.9689INFO:tensorflow:Assets written to: model-003.model\\assets\n",
      "203/203 [==============================] - 92s 456ms/step - loss: 0.0912 - accuracy: 0.9688 - val_loss: 0.5276 - val_accuracy: 0.7904\n",
      "Epoch 4/20\n",
      "203/203 [==============================] - 93s 461ms/step - loss: 0.0732 - accuracy: 0.9748 - val_loss: 0.5520 - val_accuracy: 0.8367\n",
      "Epoch 5/20\n",
      "203/203 [==============================] - 88s 434ms/step - loss: 0.0566 - accuracy: 0.9828 - val_loss: 0.6146 - val_accuracy: 0.7842\n",
      "Epoch 6/20\n",
      "202/203 [============================>.] - ETA: 0s - loss: 0.0696 - accuracy: 0.9773INFO:tensorflow:Assets written to: model-006.model\\assets\n",
      "203/203 [==============================] - 90s 445ms/step - loss: 0.0696 - accuracy: 0.9773 - val_loss: 0.1166 - val_accuracy: 0.9579\n",
      "Epoch 7/20\n",
      "203/203 [==============================] - 81s 402ms/step - loss: 0.0380 - accuracy: 0.9882 - val_loss: 0.2907 - val_accuracy: 0.8942\n",
      "Epoch 8/20\n",
      "203/203 [==============================] - 97s 480ms/step - loss: 0.0334 - accuracy: 0.9899 - val_loss: 0.1203 - val_accuracy: 0.9604\n",
      "Epoch 9/20\n",
      "202/203 [============================>.] - ETA: 0s - loss: 0.0260 - accuracy: 0.9933INFO:tensorflow:Assets written to: model-009.model\\assets\n",
      "203/203 [==============================] - 95s 470ms/step - loss: 0.0260 - accuracy: 0.9933 - val_loss: 0.1070 - val_accuracy: 0.9647\n",
      "Epoch 10/20\n",
      "203/203 [==============================] - ETA: 0s - loss: 0.0167 - accuracy: 0.9954INFO:tensorflow:Assets written to: model-010.model\\assets\n",
      "203/203 [==============================] - 94s 463ms/step - loss: 0.0167 - accuracy: 0.9954 - val_loss: 0.1070 - val_accuracy: 0.9678\n",
      "Epoch 11/20\n",
      "202/203 [============================>.] - ETA: 0s - loss: 0.0218 - accuracy: 0.9943INFO:tensorflow:Assets written to: model-011.model\\assets\n",
      "203/203 [==============================] - 91s 449ms/step - loss: 0.0223 - accuracy: 0.9941 - val_loss: 0.0926 - val_accuracy: 0.9722\n",
      "Epoch 12/20\n",
      "203/203 [==============================] - 89s 439ms/step - loss: 0.0167 - accuracy: 0.9947 - val_loss: 0.1047 - val_accuracy: 0.9672\n",
      "Epoch 13/20\n",
      "203/203 [==============================] - 84s 413ms/step - loss: 0.0279 - accuracy: 0.9918 - val_loss: 0.1400 - val_accuracy: 0.9629\n",
      "Epoch 14/20\n",
      "203/203 [==============================] - 86s 423ms/step - loss: 0.0251 - accuracy: 0.9916 - val_loss: 0.1574 - val_accuracy: 0.9481\n",
      "Epoch 15/20\n",
      "203/203 [==============================] - 87s 429ms/step - loss: 0.0248 - accuracy: 0.9932 - val_loss: 0.1269 - val_accuracy: 0.9672\n",
      "Epoch 16/20\n",
      "203/203 [==============================] - 92s 454ms/step - loss: 0.0115 - accuracy: 0.9968 - val_loss: 0.1141 - val_accuracy: 0.9666\n",
      "Epoch 17/20\n",
      "203/203 [==============================] - 85s 418ms/step - loss: 0.0096 - accuracy: 0.9972 - val_loss: 0.1154 - val_accuracy: 0.9703\n",
      "Epoch 18/20\n",
      "203/203 [==============================] - 87s 429ms/step - loss: 0.0156 - accuracy: 0.9946 - val_loss: 0.1086 - val_accuracy: 0.9666\n",
      "Epoch 19/20\n",
      "203/203 [==============================] - 85s 417ms/step - loss: 0.0175 - accuracy: 0.9951 - val_loss: 0.2288 - val_accuracy: 0.9474\n",
      "Epoch 20/20\n",
      "202/203 [============================>.] - ETA: 0s - loss: 0.0146 - accuracy: 0.9947INFO:tensorflow:Assets written to: model-020.model\\assets\n",
      "203/203 [==============================] - 91s 449ms/step - loss: 0.0146 - accuracy: 0.9947 - val_loss: 0.0890 - val_accuracy: 0.9740\n"
     ]
    }
   ],
   "source": [
    "# TRAINING THE MODEL\n",
    "history=model.fit(train_data,train_target,epochs=20,callbacks=[checkpoint],validation_split=0.2)"
   ]
  },
  {
   "cell_type": "code",
   "execution_count": 11,
   "metadata": {},
   "outputs": [
    {
     "name": "stdout",
     "output_type": "stream",
     "text": [
      "29/29 [==============================] - 3s 91ms/step - loss: 0.1098 - accuracy: 0.9722\n",
      "[0.10976865887641907, 0.972191333770752]\n"
     ]
    }
   ],
   "source": [
    "print(model.evaluate(test_data,test_target))"
   ]
  },
  {
   "cell_type": "code",
   "execution_count": null,
   "metadata": {},
   "outputs": [],
   "source": []
  }
 ],
 "metadata": {
  "kernelspec": {
   "display_name": "Python 3",
   "language": "python",
   "name": "python3"
  },
  "language_info": {
   "codemirror_mode": {
    "name": "ipython",
    "version": 3
   },
   "file_extension": ".py",
   "mimetype": "text/x-python",
   "name": "python",
   "nbconvert_exporter": "python",
   "pygments_lexer": "ipython3",
   "version": "3.8.8"
  }
 },
 "nbformat": 4,
 "nbformat_minor": 2
}
